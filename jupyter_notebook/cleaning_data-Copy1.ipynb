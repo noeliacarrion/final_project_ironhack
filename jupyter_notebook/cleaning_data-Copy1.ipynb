{
 "cells": [
  {
   "cell_type": "code",
   "execution_count": 194,
   "metadata": {
    "scrolled": true
   },
   "outputs": [
    {
     "name": "stdout",
     "output_type": "stream",
     "text": [
      "Populating the interactive namespace from numpy and matplotlib\n"
     ]
    },
    {
     "name": "stderr",
     "output_type": "stream",
     "text": [
      "/miniconda3/envs/py366/lib/python3.6/site-packages/IPython/core/magics/pylab.py:160: UserWarning: pylab import has clobbered these variables: ['seed', 'time', 'datetime']\n",
      "`%matplotlib` prevents importing * from pylab and numpy\n",
      "  \"\\n`%matplotlib` prevents importing * from pylab and numpy\"\n"
     ]
    }
   ],
   "source": [
    "import pandas as pd\n",
    "import re\n",
    "import numpy as np\n",
    "from time import time \n",
    "from datetime import datetime\n",
    "import matplotlib.pyplot as plt\n",
    "from matplotlib.pyplot import figure\n",
    "from wordcloud import WordCloud\n",
    "from umap import UMAP\n",
    "from mpl_toolkits.mplot3d import Axes3D\n",
    "import multiprocessing\n",
    "from sklearn.metrics import silhouette_score\n",
    "from sklearn.metrics.pairwise import cosine_similarity\n",
    "from spacy.lang.es.stop_words import STOP_WORDS\n",
    "from hdbscan import HDBSCAN\n",
    "from sklearn.cluster import KMeans\n",
    "from spacy.lang.es import Spanish\n",
    "from sklearn.feature_extraction.text import TfidfVectorizer\n",
    "from collections import Counter\n",
    "import es_core_news_sm\n",
    "import networkx as nx\n",
    "import spacy\n",
    "%pylab inline\n",
    "\n",
    "tweets_user = pd.read_csv('/Users/Noelia/Desktop/DATA_IRONHACK/FINAL_PROJECT/final_project_ironhack/output/User_csv/@Noelia_Carrion9_tweets.csv')\n",
    "\n",
    "tweets_user.head()\n",
    "\n",
    "def retweet(input_text):\n",
    "    if input_text.startswith(\"RT\"):\n",
    "        value = 1\n",
    "    else:\n",
    "        value = 0\n",
    "    return value\n",
    "\n",
    "tweets_user['RT'] = tweets_user.text.apply(retweet)\n",
    "\n",
    "tweets_user['mention'] = tweets_user.text.str.findall(r'(?<![@\\w])@(\\w{1,25})').apply(', '.join)\n",
    "\n",
    "tweets_user['hashtag'] = tweets_user.text.str.extract(r'(\\#\\w+)', expand=False)\n",
    "\n",
    "tweets_user['hashtag'] = tweets_user['hashtag'].fillna(\"\")\n",
    "\n",
    "tweets_user['date'] = tweets_user['created_at']\n",
    "\n",
    "tweets_user['date'] = pd.DatetimeIndex(tweets_user['created_at']).to_period('D')\n",
    "\n",
    "tweets_user = tweets_user.drop(columns=[\"created_at\"], axis=1)\n",
    "\n",
    "nlp = es_core_news_sm.load()\n",
    "\n",
    "nlp = spacy.load('es', parser=True)\n",
    "\n",
    "nlp.Defaults.stop_words |= {\"RT\",\"próx\", \"xd\", \"rt\", \"htt\"}\n",
    "\n",
    "def spacy_tokenizer(sentence):\n",
    "    sentence = re.sub(r'htt\\S+', '', sentence)\n",
    "    tokens = nlp(sentence)\n",
    "    filtered_tokens = []\n",
    "    for word in tokens:\n",
    "        lemma = word.lemma_.lower().strip()\n",
    "        \n",
    "        if lemma not in STOP_WORDS and re.search('^[a-zA-Z]{2}', lemma):\n",
    "            filtered_tokens.append(lemma)\n",
    "\n",
    "    return filtered_tokens\n",
    "\n",
    "tweets_user['tokenized'] = tweets_user['text'].apply(spacy_tokenizer)\n",
    "\n",
    "num_features = 300\n",
    "min_word_count = 50\n",
    "num_workers = multiprocessing.cpu_count()\n",
    "context_size = 10\n",
    "downsampling = 1e-4\n",
    "seed = 2\n",
    "\n",
    "all_words = []\n",
    "for line in tweets_user['tokenized']: \n",
    "    all_words.extend(line)\n",
    "    \n",
    "wordfreq = Counter(all_words)\n",
    "wordcloud = WordCloud(width=900,\n",
    "                      height=500,\n",
    "                      max_words=500,\n",
    "                      max_font_size=100,\n",
    "                      relative_scaling=0.5,\n",
    "                      colormap='Blues',\n",
    "                      normalize_plurals=True).generate_from_frequencies(wordfreq)\n",
    "plt.figure(figsize=(17,14))\n",
    "plt.imshow(wordcloud, interpolation='bilinear')\n",
    "plt.axis(\"off\")\n",
    "plt.show()\n",
    "\n",
    "\n",
    "tfidf_vectorizer = TfidfVectorizer(tokenizer = spacy_tokenizer, min_df=3)\n",
    "\n",
    "%time tfidf_matrix = tfidf_vectorizer.fit_transform(tweets_user['text'].values)\n",
    "\n",
    "print(tfidf_matrix.shape)\n",
    "\n",
    "terms = tfidf_vectorizer.get_feature_names()\n",
    "\n",
    "array_matrix = tfidf_matrix.toarray()\n",
    "\n",
    "first_vector_tfidfvectorizer=tfidf_matrix[0]\n",
    "df = pd.DataFrame(first_vector_tfidfvectorizer.T.todense(), index=tfidf_vectorizer.get_feature_names(), columns=[\"tfidf\"])\n",
    "df.sort_values(by=[\"tfidf\"],ascending=False).head()\n",
    "\n",
    "vocab = tfidf_vectorizer.vocabulary_\n",
    "\n",
    "dist = 1 - cosine_similarity(tfidf_matrix)\n",
    "dist\n",
    "\n",
    "umap = UMAP(n_components=2, n_neighbors=5)\n",
    "embedding = umap.fit_transform(dist)\n",
    "\n",
    "umap_df = pd.DataFrame(embedding, columns=[f'emb_{i+1}' for i in range(2)])\n",
    "\n",
    "umap_df.head()\n",
    "\n",
    "plt.scatter(umap_df['emb_1'], umap_df['emb_2'], cmap='Spectral', s=5)\n",
    "plt.gca().set_aspect('equal', 'datalim')\n",
    "plt.colorbar(boundaries=np.arange(11)-0.5).set_ticks(np.arange(10))\n",
    "plt.title('UMAP projection', fontsize=12);\n",
    "\n",
    "hdbscan = HDBSCAN(min_cluster_size=10, gen_min_span_tree=True)\n",
    "\n",
    "clustering = hdbscan.fit_predict(embedding)\n",
    "\n",
    "np.unique(clustering)\n",
    "\n",
    "hdbscan.labels_.max()\n",
    "\n",
    "labels = hdbscan.labels_\n",
    "\n",
    "fig = plt.figure(figsize=(15, 10))\n",
    "plt.scatter(embedding[:,0], embedding[:,1], c=clustering);\n",
    "plt.colorbar(boundaries=np.arange(12)-0.5).set_ticks(np.arange(11))\n",
    "\n",
    "from sklearn.metrics import silhouette_score\n",
    "\n",
    "print(\"Silhouette Coefficient: %0.3f\"\n",
    "      % silhouette_score(embedding, hdbscan.fit_predict(embedding)))\n",
    "\n",
    "num_clusters = 8\n",
    "\n",
    "km = KMeans(n_clusters=num_clusters, init = 'k-means++',max_iter=300,n_init=10)\n",
    "\n",
    "%time clustering = km.fit_predict(embedding)\n",
    "\n",
    "clusters = km.labels_.tolist()\n",
    "\n",
    "fig = plt.figure(figsize=(15, 10))\n",
    "plt.scatter(umap_df['emb_1'], umap_df['emb_2'], c =km.labels_, cmap='Spectral')\n",
    "#plt.gca().set_aspect('equal', 'datalim')\n",
    "plt.colorbar(boundaries=np.arange(9)-0.5).set_ticks(np.arange(8))\n",
    "centers = np.array(km.cluster_centers_)\n",
    "\n",
    "plt.scatter(centers[:,0], centers[:,1], marker=\"x\", color='green')\n",
    "plt.title('UMAP projection', fontsize=12);\n",
    "\n",
    "print(\"Silhouette Coefficient: %0.3f\"\n",
    "      % silhouette_score(embedding, km.predict(embedding)))\n",
    "\n",
    "inertia = []\n",
    "\n",
    "for n_clusters in range(2, 12):\n",
    "    kmeans = KMeans(n_clusters=n_clusters)\n",
    "    kmeans.fit(embedding)\n",
    "    inertia.append(kmeans.inertia_)\n",
    "    \n",
    "plt.plot(range(2, 12), inertia);\n",
    "\n",
    "tweets = {'tweet': tweets_user['text'].values, \"words\": tweets_user['tokenized'].values, 'cluster': clusters}\n",
    "frame = pd.DataFrame(tweets, index = [clusters] , columns = ['tweet', 'words', \"cluster\"])\n",
    "\n",
    "frame[frame['cluster']==4].head()\n",
    "\n",
    "tfidf_df = pd.DataFrame(tfidf_matrix.toarray(), columns=terms)\n",
    "tfidf_df.head()\n",
    "\n",
    "def get_df_from_cluster(cluster):\n",
    "    return tfidf_df[clustering==cluster]\n",
    "\n",
    "top_words_cluster = get_df_from_cluster(0).T.sum(axis=1).sort_values(ascending=False)\n",
    "top_words_cluster.head(20)\n",
    "\n"
   ]
  },
  {
   "cell_type": "code",
   "execution_count": null,
   "metadata": {},
   "outputs": [],
   "source": []
  },
  {
   "cell_type": "code",
   "execution_count": null,
   "metadata": {},
   "outputs": [],
   "source": []
  },
  {
   "cell_type": "code",
   "execution_count": 165,
   "metadata": {},
   "outputs": [
    {
     "data": {
      "text/plain": [
       "1.419712e+17    1\n",
       "7.583049e+17    1\n",
       "7.814585e+17    1\n",
       "8.018444e+17    1\n",
       "7.808245e+17    1\n",
       "               ..\n",
       "8.465564e+14    1\n",
       "1.156509e+18    1\n",
       "1.156508e+18    1\n",
       "1.156245e+18    1\n",
       "1.156509e+18    1\n",
       "Name: mention, Length: 441, dtype: int64"
      ]
     },
     "execution_count": 165,
     "metadata": {},
     "output_type": "execute_result"
    }
   ],
   "source": [
    "tweets_user.mention.value_counts()"
   ]
  },
  {
   "cell_type": "code",
   "execution_count": 190,
   "metadata": {},
   "outputs": [
    {
     "data": {
      "text/plain": [
       "el_pais                                    10\n",
       "NCINoticias                                 9\n",
       "elmundoes                                   9\n",
       "ramonlobo                                   7\n",
       "CursosVeranoUCM                             7\n",
       "                                           ..\n",
       "ManuelaCarmena                              1\n",
       "MadridDestino, fernangomezCCV               1\n",
       "NCINoticias, uni                            1\n",
       "plenaiandalucia                             1\n",
       "NCINoticias, A_Valenzuela, YaVeremosM80     1\n",
       "Name: mention, Length: 329, dtype: int64"
      ]
     },
     "execution_count": 190,
     "metadata": {},
     "output_type": "execute_result"
    }
   ],
   "source": [
    "tweets_user = tweets_user[tweets_user['mention']!=\"\"]\n",
    "\n",
    "tweets_user['mention'].value_counts()"
   ]
  },
  {
   "cell_type": "code",
   "execution_count": null,
   "metadata": {},
   "outputs": [],
   "source": []
  },
  {
   "cell_type": "code",
   "execution_count": 191,
   "metadata": {},
   "outputs": [],
   "source": [
    "df = pd.DataFrame({\n",
    "    'user':['user1','user2','user2'],\n",
    "    'mentioned_user':['jack,peter,anne','sophie','anne,user1']\n",
    "})"
   ]
  },
  {
   "cell_type": "code",
   "execution_count": 192,
   "metadata": {},
   "outputs": [
    {
     "data": {
      "text/html": [
       "<div>\n",
       "<style scoped>\n",
       "    .dataframe tbody tr th:only-of-type {\n",
       "        vertical-align: middle;\n",
       "    }\n",
       "\n",
       "    .dataframe tbody tr th {\n",
       "        vertical-align: top;\n",
       "    }\n",
       "\n",
       "    .dataframe thead th {\n",
       "        text-align: right;\n",
       "    }\n",
       "</style>\n",
       "<table border=\"1\" class=\"dataframe\">\n",
       "  <thead>\n",
       "    <tr style=\"text-align: right;\">\n",
       "      <th></th>\n",
       "      <th>user</th>\n",
       "      <th>mentioned_user</th>\n",
       "    </tr>\n",
       "  </thead>\n",
       "  <tbody>\n",
       "    <tr>\n",
       "      <th>0</th>\n",
       "      <td>user1</td>\n",
       "      <td>jack,peter,anne</td>\n",
       "    </tr>\n",
       "    <tr>\n",
       "      <th>1</th>\n",
       "      <td>user2</td>\n",
       "      <td>sophie</td>\n",
       "    </tr>\n",
       "    <tr>\n",
       "      <th>2</th>\n",
       "      <td>user2</td>\n",
       "      <td>anne,user1</td>\n",
       "    </tr>\n",
       "  </tbody>\n",
       "</table>\n",
       "</div>"
      ],
      "text/plain": [
       "    user   mentioned_user\n",
       "0  user1  jack,peter,anne\n",
       "1  user2           sophie\n",
       "2  user2       anne,user1"
      ]
     },
     "execution_count": 192,
     "metadata": {},
     "output_type": "execute_result"
    }
   ],
   "source": [
    "df"
   ]
  },
  {
   "cell_type": "code",
   "execution_count": 195,
   "metadata": {},
   "outputs": [
    {
     "name": "stderr",
     "output_type": "stream",
     "text": [
      "/miniconda3/envs/py366/lib/python3.6/site-packages/networkx/drawing/nx_pylab.py:579: MatplotlibDeprecationWarning: \n",
      "The iterable function was deprecated in Matplotlib 3.1 and will be removed in 3.3. Use np.iterable instead.\n",
      "  if not cb.iterable(width):\n",
      "/miniconda3/envs/py366/lib/python3.6/site-packages/networkx/drawing/nx_pylab.py:676: MatplotlibDeprecationWarning: \n",
      "The iterable function was deprecated in Matplotlib 3.1 and will be removed in 3.3. Use np.iterable instead.\n",
      "  if cb.iterable(node_size):  # many node sizes\n"
     ]
    },
    {
     "data": {
      "image/png": "[encoded data removed]",
      "text/plain": [
       "<Figure size 432x288 with 1 Axes>"
      ]
     },
     "metadata": {},
     "output_type": "display_data"
    }
   ],
   "source": [
    "df['splitted_users'] = df['mentioned_user'].apply(lambda x: x.split(','))\n",
    "\n",
    "G = nx.DiGraph()\n",
    "for r in df.iterrows():\n",
    "    for user in r[1]['splitted_users']:\n",
    "        G.add_edge(r[1]['user'], user)\n",
    "nx.draw(G, with_labels=True)"
   ]
  },
  {
   "cell_type": "code",
   "execution_count": 196,
   "metadata": {},
   "outputs": [
    {
     "data": {
      "text/plain": [
       "0    [jack, peter, anne]\n",
       "1               [sophie]\n",
       "2          [anne, user1]\n",
       "Name: splitted_users, dtype: object"
      ]
     },
     "execution_count": 196,
     "metadata": {},
     "output_type": "execute_result"
    }
   ],
   "source": [
    "df['splitted_users'] "
   ]
  }
 ],
 "metadata": {
  "kernelspec": {
   "display_name": "Python 3",
   "language": "python",
   "name": "python3"
  },
  "language_info": {
   "codemirror_mode": {
    "name": "ipython",
    "version": 3
   },
   "file_extension": ".py",
   "mimetype": "text/x-python",
   "name": "python",
   "nbconvert_exporter": "python",
   "pygments_lexer": "ipython3",
   "version": "3.6.9"
  }
 },
 "nbformat": 4,
 "nbformat_minor": 2
}
